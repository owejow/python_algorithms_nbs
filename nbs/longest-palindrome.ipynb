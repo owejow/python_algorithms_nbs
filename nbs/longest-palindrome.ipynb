{
 "cells": [
  {
   "cell_type": "markdown",
   "metadata": {},
   "source": [
    "# Question 5: Longest Palindromic Substring\n",
    "\n",
    "\n",
    "[longest-palindromic-substring](https://leetcode.com/problems/longest-palindromic-substring/)"
   ]
  },
  {
   "cell_type": "code",
   "execution_count": null,
   "metadata": {},
   "outputs": [],
   "source": [
    "from nbdev.showdoc import *\n",
    "from nbdev.imports import *"
   ]
  },
  {
   "cell_type": "markdown",
   "metadata": {},
   "source": [
    "Given a string s, find the longest palindromic substring in s. You may assume that the maximum length of s is 1000.\n",
    "\n",
    "Example 1:\n",
    "\n",
    "```bash\n",
    "Input: \"babad\"\n",
    "Output: \"bab\"\n",
    "Note: \"aba\" is also a valid answer.\n",
    "Example 2:\n",
    "\n",
    "Input: \"cbbd\"\n",
    "Output: \"bb\"\n",
    "```"
   ]
  },
  {
   "cell_type": "markdown",
   "metadata": {},
   "source": [
    "## Brute Force O(n^3)"
   ]
  },
  {
   "cell_type": "code",
   "execution_count": null,
   "metadata": {},
   "outputs": [],
   "source": [
    "def isPalindrome(s):\n",
    "    for i in range(len(s)//2):\n",
    "        if s[i] != s[len(s)-i-1]:\n",
    "            return False\n",
    "    return True"
   ]
  },
  {
   "cell_type": "code",
   "execution_count": null,
   "metadata": {},
   "outputs": [],
   "source": [
    "assert isPalindrome(\"\")\n",
    "assert isPalindrome(\"a\")\n",
    "assert isPalindrome(\"aba\")\n",
    "assert isPalindrome(\"abba\")\n",
    "assert not isPalindrome(\"abbb\")\n",
    "assert not isPalindrome(\"abb\")"
   ]
  },
  {
   "cell_type": "code",
   "execution_count": null,
   "metadata": {},
   "outputs": [],
   "source": [
    "def longestPalindromeBruteForce(s: str) -> str:\n",
    "    longest = \"\"\n",
    "    for i in range(len(s)):\n",
    "        for j in range(i+1,len(s)+1):\n",
    "            if isPalindrome(s[i:j]):\n",
    "                if (j-i) > len(longest):\n",
    "                    longest = s[i:j]\n",
    "    return longest"
   ]
  },
  {
   "cell_type": "code",
   "execution_count": null,
   "metadata": {},
   "outputs": [],
   "source": [
    "assert longestPalindromeBruteForce(\"babad\") == \"bab\"\n",
    "assert longestPalindromeBruteForce(\"orgeeksskeegfo\") == \"geeksskeeg\"\n",
    "assert longestPalindromeBruteForce(\"abcbabcbabcba\") == 'abcbabcbabcba'"
   ]
  },
  {
   "cell_type": "markdown",
   "metadata": {},
   "source": [
    "## Center Character O(n^2)"
   ]
  },
  {
   "cell_type": "code",
   "execution_count": null,
   "metadata": {},
   "outputs": [],
   "source": [
    "import math\n",
    "\n",
    "def longestPalindromeCenterString(s: str) -> str:\n",
    "    longest = \"\"\n",
    "    \n",
    "    for i in range(2*len(s)+1):\n",
    "        start = math.floor(i/2)\n",
    "        stop  = math.ceil(i/2)\n",
    "\n",
    "        while start >= 0 and stop < len(s):\n",
    "            \n",
    "            if s[start] != s[stop]:\n",
    "                break\n",
    "                \n",
    "            if stop-start + 1 > len(longest):\n",
    "                longest = s[start:stop+1]\n",
    "            \n",
    "            start -= 1\n",
    "            stop += 1\n",
    "                        \n",
    "    return longest"
   ]
  },
  {
   "cell_type": "code",
   "execution_count": null,
   "metadata": {},
   "outputs": [],
   "source": [
    "assert longestPalindromeCenterString(\"a\") == \"a\"\n",
    "assert longestPalindromeCenterString(\"aba\") == \"aba\"\n",
    "assert longestPalindromeCenterString(\"babad\") == \"bab\"\n",
    "assert longestPalindromeCenterString(\"orgeeksskeegfo\") == \"geeksskeeg\"\n",
    "assert longestPalindromeCenterString(\"abcbabcbabcba\") == 'abcbabcbabcba'"
   ]
  },
  {
   "cell_type": "markdown",
   "metadata": {},
   "source": [
    "## Memoize O(n^2)"
   ]
  },
  {
   "cell_type": "code",
   "execution_count": null,
   "metadata": {},
   "outputs": [],
   "source": [
    "def longestPalindromeMemo(s: str) -> str:\n",
    "\n",
    "    longest = (0,0)\n",
    "    memo = {}\n",
    "    goo = {\"total\":0,\n",
    "           \"memo\":0}\n",
    "    \n",
    "    def helper(i,j):\n",
    "\n",
    "        if i == j or j < i:\n",
    "            return True\n",
    "        \n",
    "        if (i,j) in memo:\n",
    "            return memo[(i,j)]\n",
    "        \n",
    "        if s[i] != s[j]:\n",
    "            memo[(i,j)] = False\n",
    "        \n",
    "        elif helper(i+1, j-1):\n",
    "            memo[(i,j)] = True\n",
    "        \n",
    "        else:\n",
    "            memo[(i,j)] = False\n",
    "        \n",
    "        return memo[(i,j)]\n",
    "    \n",
    "    for i in range(len(s)):\n",
    "        for j in range(i, len(s)):\n",
    "            if helper(i,j):\n",
    "                if  j - i > longest[1] - longest[0] :\n",
    "                    longest = (i,j)\n",
    "    \n",
    "    return s[longest[0]:longest[1]+1]\n"
   ]
  },
  {
   "cell_type": "code",
   "execution_count": null,
   "metadata": {},
   "outputs": [],
   "source": [
    "assert longestPalindromeMemo(\"a\") == \"a\"\n",
    "assert longestPalindromeMemo(\"aba\") == \"aba\"\n",
    "assert longestPalindromeMemo(\"babad\") == \"bab\"\n",
    "assert longestPalindromeMemo(\"orgeeksskeegfo\") == \"geeksskeeg\"\n",
    "assert longestPalindromeMemo(\"abcbabcbabcba\") == 'abcbabcbabcba'"
   ]
  },
  {
   "cell_type": "code",
   "execution_count": null,
   "metadata": {},
   "outputs": [],
   "source": [
    "def longestPalindromeMemo2(s: str) -> str:\n",
    "    memo = {}\n",
    "    longest = (0,0)\n",
    "    count = 0\n",
    "    \n",
    "    def update(i,j,evaluate):\n",
    "        nonlocal longest\n",
    "        if  evaluate:        \n",
    "            if j - i > longest[1] - longest[0]:\n",
    "                longest = (i, j)\n",
    "    \n",
    "    def helper(i,j):\n",
    "        if i == j or i > j:\n",
    "            return True\n",
    "        \n",
    "        if (i,j) in memo:\n",
    "            return memo[(i,j)]\n",
    "        \n",
    "        if s[i] != s[j]:\n",
    "            memo[(i,j)] = False\n",
    "            \n",
    "            memo[(i+1, j)] = helper(i+1, j)\n",
    "            update(i+1, j, memo[(i+1,j)])\n",
    "            \n",
    "            memo[(i,j-1)] = helper(i,j-1)\n",
    "            update(i,j-1, memo[i, j-1])\n",
    "                \n",
    "        else:\n",
    "            memo[(i,j)] = helper(i+1, j-1)\n",
    "            update(i, j, memo[i,j])\n",
    "            \n",
    "        return memo[(i,j)]\n",
    "    \n",
    "    helper(0,len(s)-1)\n",
    "    \n",
    "    return s[longest[0]:longest[1]+1]\n",
    "\n"
   ]
  },
  {
   "cell_type": "code",
   "execution_count": null,
   "metadata": {},
   "outputs": [],
   "source": [
    "assert longestPalindromeMemo2(\"a\") == \"a\"\n",
    "assert longestPalindromeMemo2(\"aba\") == \"aba\"\n",
    "assert longestPalindromeMemo2(\"babad\") == \"aba\"\n",
    "assert longestPalindromeMemo2(\"orgeeksskeegfo\") == 'geeksskeeg'\n",
    "assert longestPalindromeMemo2(\"abcbabcbabcba\") == 'abcbabcbabcba'"
   ]
  },
  {
   "cell_type": "code",
   "execution_count": null,
   "metadata": {},
   "outputs": [],
   "source": [
    "def longestPalindromeMemo3(s: str) -> str:\n",
    "    memo = {} \n",
    "\n",
    "    def helper(i,j):\n",
    "        if (i,j) in memo:\n",
    "            return True\n",
    "        \n",
    "        if i == j:\n",
    "            memo[(i,j)] = True\n",
    "            return True\n",
    "        \n",
    "        if j < i:\n",
    "            return True\n",
    "        \n",
    "        if s[i] != s[j]:\n",
    "            memo[(i+1,j)] = helper(i+1, j)\n",
    "            memo[(i, j-1)] = helper(i,j-1)\n",
    "            memo[(i, j)] = False\n",
    "                \n",
    "        else:\n",
    "            memo[(i,j)] = helper(i+1, j-1)\n",
    "\n",
    "            \n",
    "        return memo[(i,j)]\n",
    "    \n",
    "    helper(0,len(s)-1)\n",
    "    \n",
    "    longest = 0\n",
    "    longest_idxs = (0,0)\n",
    "    \n",
    "    for idxs ,is_palindrome in memo.items():\n",
    "        if is_palindrome:\n",
    "            if idxs[1] - idxs[0] > longest_idxs[1]-longest_idxs[0]:\n",
    "                longest_idxs = idxs\n",
    "    \n",
    "    return s[longest_idxs[0]:longest_idxs[1]+1]"
   ]
  },
  {
   "cell_type": "code",
   "execution_count": null,
   "metadata": {},
   "outputs": [],
   "source": [
    "assert longestPalindromeMemo3(\"a\") == \"a\"\n",
    "assert longestPalindromeMemo3(\"aba\") == \"aba\"\n",
    "assert longestPalindromeMemo3(\"babad\") == \"aba\"\n",
    "assert longestPalindromeMemo3(\"orgeeksskeegfo\") == 'geeksskeeg'\n",
    "assert longestPalindromeMemo3(\"abcbabcbabcba\") == 'abcbabcbabcba'"
   ]
  },
  {
   "cell_type": "markdown",
   "metadata": {},
   "source": [
    "## Bottom Up O(n^2)"
   ]
  },
  {
   "cell_type": "code",
   "execution_count": null,
   "metadata": {},
   "outputs": [],
   "source": [
    "def longestPalindromeBottomUp(s: str) -> str:\n",
    "    result = [[0] * len(s) for _ in range(len(s))]\n",
    "    indices = (0,0)\n",
    "    longest = 0\n",
    "    \n",
    "    for i in range(len(s)):\n",
    "        for j in range(len(s)-i):\n",
    "            row = j\n",
    "            col = j+i\n",
    "            if row == col:\n",
    "                result[row][col] = 1\n",
    "                \n",
    "            elif i == 1:\n",
    "                if s[row] == s[col]:\n",
    "                    result[row][col] = 2\n",
    "\n",
    "            else:\n",
    "                if result[row+1][col-1] > 0 and s[row] == s[col]:\n",
    "                    result[row][col] = i+1\n",
    "            \n",
    "            if result[row][col] > longest:\n",
    "                indices = (row,col+1)\n",
    "                    \n",
    "    return s[indices[0]:indices[1]]\n",
    "    \n",
    "    \n",
    "    "
   ]
  },
  {
   "cell_type": "code",
   "execution_count": null,
   "metadata": {},
   "outputs": [],
   "source": [
    "assert longestPalindromeBottomUp(\"a\") == \"a\"\n",
    "assert longestPalindromeBottomUp(\"aba\") == \"aba\"\n",
    "assert longestPalindromeBottomUp(\"babad\") == \"aba\"\n",
    "assert longestPalindromeBottomUp(\"orgeeksskeegfo\") == 'geeksskeeg'\n",
    "assert longestPalindromeBottomUp(\"abcbabcbabcba\") == 'abcbabcbabcba'"
   ]
  }
 ],
 "metadata": {
  "kernelspec": {
   "display_name": "dev",
   "language": "python",
   "name": "dev"
  }
 },
 "nbformat": 4,
 "nbformat_minor": 2
}
