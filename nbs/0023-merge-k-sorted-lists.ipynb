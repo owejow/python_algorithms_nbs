{
 "cells": [
  {
   "cell_type": "markdown",
   "metadata": {},
   "source": [
    "# Question 23: Merge k sorted Lists \n",
    "\n",
    "Merge k sorted linked lists and return it as one sorted list. Analyze and \n",
    "describe its complexity.\n",
    "\n",
    "```bash\n",
    "Example:\n",
    "\n",
    "Input:\n",
    "[\n",
    "  1->4->5,\n",
    "  1->3->4,\n",
    "  2->6\n",
    "]\n",
    "Output: 1->1->2->3->4->4->5->6\n",
    "```"
   ]
  },
  {
   "cell_type": "code",
   "execution_count": null,
   "metadata": {},
   "outputs": [],
   "source": [
    "from typing import List\n",
    "\n",
    "class ListNode:\n",
    "    def __init__(self, x):\n",
    "        self.val = x\n",
    "        self.next = None     \n",
    "\n",
    "    def __repr__(self):\n",
    "        return f'{self.val} -> {self.next}'"
   ]
  },
  {
   "cell_type": "code",
   "execution_count": null,
   "metadata": {},
   "outputs": [],
   "source": [
    "def createLLs(lst:List) -> List:\n",
    "    return [createLinkedList(item) for item in lst]"
   ]
  },
  {
   "cell_type": "code",
   "execution_count": null,
   "metadata": {},
   "outputs": [],
   "source": [
    "def createLinkedList(lst:List) -> List:\n",
    "    if not lst:\n",
    "        return None\n",
    "    head = ListNode(lst[0])\n",
    "    curr = head\n",
    "    for item in lst[1:]:\n",
    "        curr.next = ListNode(item)\n",
    "        curr = curr.next\n",
    "    \n",
    "    return head"
   ]
  },
  {
   "cell_type": "code",
   "execution_count": null,
   "metadata": {},
   "outputs": [],
   "source": [
    "def createList(ll) -> List:\n",
    "    if ll is None:\n",
    "        return None\n",
    "    curr = ll\n",
    "    lst = []\n",
    "    while curr is not None:\n",
    "        lst.append(curr.val)\n",
    "        curr = curr.next\n",
    "    return lst"
   ]
  },
  {
   "cell_type": "code",
   "execution_count": null,
   "metadata": {},
   "outputs": [],
   "source": [
    "from heapq import heappush, heappop"
   ]
  },
  {
   "cell_type": "code",
   "execution_count": null,
   "metadata": {},
   "outputs": [],
   "source": [
    "def mergeKLists(lists: List[ListNode]) -> ListNode:\n",
    "    heap = []\n",
    "    \n",
    "    head = None\n",
    "    \n",
    "    nodes = {}\n",
    "    \n",
    "    for idx, lst in enumerate(lists):\n",
    "        if lst:\n",
    "            heappush(heap, (lst.val, idx))\n",
    "            nodes[idx] = lst    \n",
    "    if heap:\n",
    "        val, idx = heappop(heap)\n",
    "        head = ListNode(val)\n",
    "        \n",
    "        if nodes[idx].next:\n",
    "            heappush(heap, (nodes[idx].next.val, idx))\n",
    "            nodes[idx] = nodes[idx].next\n",
    "        else:\n",
    "            del nodes[idx]\n",
    "    \n",
    "    curr = head\n",
    "\n",
    "    while heap:\n",
    "            val, idx = heappop(heap)\n",
    "            curr.next = ListNode(val)\n",
    "            curr = curr.next\n",
    "            if nodes[idx].next == None:\n",
    "                del nodes[idx]\n",
    "                continue\n",
    "                \n",
    "            heappush(heap, (nodes[idx].next.val, idx))\n",
    "            nodes[idx] = nodes[idx].next\n",
    "            \n",
    "    return head"
   ]
  },
  {
   "cell_type": "code",
   "execution_count": null,
   "metadata": {},
   "outputs": [],
   "source": [
    "assert createList(mergeKLists(createLLs([[1,4,5],[1,3,4],[2,6]]))) == [1, 1, 2, 3, 4, 4, 5, 6]\n",
    "assert createList(mergeKLists(createLLs([[1,2,3,4,5],[1,1,1,1,3,4],[2,6,8]]))) == [1, 1, 1, 1, 1, 2, 2, 3, 3, 4, 4, 5, 6, 8]\n",
    "assert createList(mergeKLists(createLLs([[1],[100],[8,8,8,8,8,8]]))) == [1, 8, 8, 8, 8, 8, 8, 100]"
   ]
  },
  {
   "cell_type": "markdown",
   "metadata": {},
   "source": [
    "## Comparison Class"
   ]
  },
  {
   "cell_type": "code",
   "execution_count": null,
   "metadata": {},
   "outputs": [],
   "source": [
    "class WrappedNode:\n",
    "    def __init__(self, node):\n",
    "        self._node = node\n",
    "        self.val = self._node.val\n",
    "        self.next = self._node.next\n",
    "        \n",
    "    def __repr__(self):\n",
    "        return f'{self.val} -> {self.next}'\n",
    "    \n",
    "    def __gt__(self, s, o):\n",
    "        s.value > o.value"
   ]
  },
  {
   "cell_type": "code",
   "execution_count": null,
   "metadata": {},
   "outputs": [],
   "source": [
    "a = ListNode(10)\n",
    "a.next = ListNode(20)"
   ]
  },
  {
   "cell_type": "code",
   "execution_count": null,
   "metadata": {},
   "outputs": [
    {
     "data": {
      "text/plain": [
       "10 -> 20 -> None"
      ]
     },
     "execution_count": null,
     "metadata": {},
     "output_type": "execute_result"
    }
   ],
   "source": [
    "WrappedNode(a)"
   ]
  },
  {
   "cell_type": "code",
   "execution_count": null,
   "metadata": {},
   "outputs": [],
   "source": [
    "W"
   ]
  }
 ],
 "metadata": {
  "kernelspec": {
   "display_name": "Python 3",
   "language": "python",
   "name": "python3"
  }
 },
 "nbformat": 4,
 "nbformat_minor": 4
}
