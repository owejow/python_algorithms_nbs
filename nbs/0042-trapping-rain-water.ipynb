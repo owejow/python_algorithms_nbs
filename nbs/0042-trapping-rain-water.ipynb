{
 "cells": [
  {
   "cell_type": "markdown",
   "metadata": {},
   "source": [
    "# 42. Trapping Rain Water\n",
    "\n",
    "Given n non-negative integers representing an elevation map where the width of each bar is 1, compute how much water it is able to trap after raining.\n",
    "\n",
    "![](../images/42-trapping-rain-water.png)\n",
    "\n",
    "The above elevation map is represented by array [0,1,0,2,1,0,1,3,2,1,2,1]. In this case, 6 units of rain water (blue section) are being trapped. Thanks Marcos for contributing this image!\n",
    "\n",
    "```bash\n",
    "Example:\n",
    "\n",
    "Input: [0,1,0,2,1,0,1,3,2,1,2,1]\n",
    "Output: 6\n",
    "```"
   ]
  },
  {
   "cell_type": "code",
   "execution_count": null,
   "metadata": {},
   "outputs": [],
   "source": [
    "from typing import List"
   ]
  },
  {
   "cell_type": "code",
   "execution_count": null,
   "metadata": {},
   "outputs": [],
   "source": [
    "def findPeak(start:int, lst: List[int]) -> int:\n",
    "    candidate = lst[start]\n",
    "    idx = start\n",
    "    for i in range(start+1, len(lst)):\n",
    "\n",
    "        if lst[i] < candidate:\n",
    "            return idx\n",
    "        candidate = lst[i]\n",
    "        idx += 1\n",
    "    return idx"
   ]
  },
  {
   "cell_type": "code",
   "execution_count": null,
   "metadata": {},
   "outputs": [],
   "source": [
    "assert findPeak(0,[1,2,3,4,5]) == 4\n",
    "assert findPeak(0,[1,2,0,4,5]) == 1\n",
    "assert findPeak(1,[1,2,0,4,5,3]) == 1\n",
    "assert findPeak(2,[1,2,0,4,5,3]) == 4\n",
    "assert findPeak(2,[1,2,0,4,5,5,5,5]) == 7"
   ]
  },
  {
   "cell_type": "code",
   "execution_count": null,
   "metadata": {},
   "outputs": [],
   "source": [
    "def findNadir(start:int, lst: List[int]) -> int:\n",
    "    candidate = lst[start]\n",
    "    idx = start\n",
    "    for i in range(start+1, len(lst)):\n",
    "        if lst[i] > candidate:\n",
    "            return idx\n",
    "        candidate = lst[i]\n",
    "        idx+=1\n",
    "    return idx"
   ]
  },
  {
   "cell_type": "code",
   "execution_count": null,
   "metadata": {},
   "outputs": [],
   "source": [
    "assert findNadir(0,[1,2,3,4,5]) == 0\n",
    "assert findNadir(1,[1,2,0,4,5]) == 2\n",
    "assert findNadir(0,[3,2,0,4,5,3]) == 2\n",
    "assert findNadir(4,[1,2,0,4,5,3]) == 5"
   ]
  },
  {
   "cell_type": "code",
   "execution_count": null,
   "metadata": {},
   "outputs": [],
   "source": [
    "def findTrough(start:int, lst: List[int]):\n",
    "    s = findNadir(start,lst)\n",
    "    if s == start:\n",
    "        return None\n",
    "    \n",
    "    e = findPeak(s, lst)\n",
    "    return (start,e)"
   ]
  },
  {
   "cell_type": "code",
   "execution_count": null,
   "metadata": {},
   "outputs": [
    {
     "data": {
      "text/plain": [
       "(1, 8)"
      ]
     },
     "execution_count": null,
     "metadata": {},
     "output_type": "execute_result"
    }
   ],
   "source": [
    "assert findTrough(0,[1,2,3,4]) is None\n",
    "assert findTrough(0,[5,4,3,2,3,4,5]) == (0,6)\n",
    "assert findTrough(1,[0,5,4,3,2,3,4,5,6,3,4]) == (1,8)"
   ]
  },
  {
   "cell_type": "code",
   "execution_count": null,
   "metadata": {},
   "outputs": [],
   "source": [
    "def backfill(start:int, stop:int, lst: List[int]) -> int:\n",
    "    target = min(lst[start], lst[stop])\n",
    "    total = 0\n",
    "    \n",
    "    ascended = False\n",
    "    prev = lst[stop]\n",
    "    \n",
    "    for i in range(stop-1, start,-1):\n",
    "        if lst[i] < target:\n",
    "            total += target - lst[i]\n",
    "            lst[i] = target\n",
    "            \n",
    "        if lst[i] > prev:\n",
    "            ascended = True\n",
    "        \n",
    "        if ascended:\n",
    "            break\n",
    "            \n",
    "        prev = lst[i]   \n",
    "    return total"
   ]
  },
  {
   "cell_type": "code",
   "execution_count": null,
   "metadata": {},
   "outputs": [],
   "source": [
    "lst = [0,5,4,3,2,3,4,5,6] \n",
    "assert backfill(1, 8, lst) == 9\n",
    "assert lst == [0, 5, 5, 5, 5, 5, 5, 5, 6]"
   ]
  },
  {
   "cell_type": "code",
   "execution_count": null,
   "metadata": {},
   "outputs": [],
   "source": [
    "lst = [0,5,4,3,2,3,1,3,4,1,2,5,6] \n",
    "assert (backfill(1, 5, lst), lst) == (1, [0, 5, 4, 3, 3, 3, 1, 3, 4, 1, 2, 5, 6])\n",
    "assert (backfill(1, 8, lst), lst) == (7, [0, 5, 4, 4, 4, 4, 4, 4, 4, 1, 2, 5, 6])\n",
    "assert (backfill(1, 12, lst), lst) == (14, [0, 5, 5, 5, 5, 5, 5, 5, 5, 5, 5, 5, 6])"
   ]
  },
  {
   "cell_type": "code",
   "execution_count": null,
   "metadata": {},
   "outputs": [],
   "source": [
    "lst = [0, 5, 4, 3, 3, 3, 1, 0]\n",
    "assert (backfill(1,7,lst), lst) == (0, [0, 5, 4, 3, 3, 3, 1, 0])"
   ]
  },
  {
   "cell_type": "code",
   "execution_count": null,
   "metadata": {},
   "outputs": [],
   "source": [
    "def trap(height: List[int]) -> int:\n",
    "    total = 0\n",
    "    \n",
    "    if not height:\n",
    "        return total\n",
    "    \n",
    "    idx = findPeak(0, height)\n",
    "    stack = []\n",
    "    \n",
    "    stack.append((height[idx], 1))\n",
    "    \n",
    "    idx_left = idx\n",
    "\n",
    "    for i in range(idx+1, len(height)):\n",
    "\n",
    "        if height[i] == stack[-1][0]:\n",
    "            v,c = stack.pop()\n",
    "            stack.append((v, c+1))\n",
    "        \n",
    "        elif height[i] < stack[-1][0]:\n",
    "            stack.append((height[i],1))\n",
    "        \n",
    "        else:\n",
    "\n",
    "            \n",
    "            target = min(height[idx_left], height[i])\n",
    "            \n",
    "            cnt = 0\n",
    "\n",
    "            for j in range(len(stack)-1, -1, -1):\n",
    "                if stack[j][0] > target:\n",
    "                    break \n",
    "                    \n",
    "                v,c = stack.pop()\n",
    "                cnt += c\n",
    "                total += c*(target - v)\n",
    "                \n",
    "            if height[i] >= height[idx_left]:\n",
    "                idx_left = i\n",
    "                stack.append((height[i], 1))\n",
    "                \n",
    "            else:\n",
    "                stack.append((target, cnt +1))\n",
    "                \n",
    "    return total\n",
    "            "
   ]
  },
  {
   "cell_type": "code",
   "execution_count": null,
   "metadata": {},
   "outputs": [
    {
     "name": "stdout",
     "output_type": "stream",
     "text": [
      "[(5, 1)]\n",
      "[(5, 1), (4, 1)]\n",
      "[(5, 1), (4, 1), (3, 1)]\n",
      "[(5, 1), (4, 1), (3, 2)]\n",
      "[(5, 1), (4, 1), (3, 3)]\n",
      "[(5, 1), (4, 1), (3, 3), (1, 1)]\n"
     ]
    }
   ],
   "source": [
    "lst = [0, 5, 4, 3, 3, 3, 1, 0]\n",
    "assert trap(lst) == 0"
   ]
  },
  {
   "cell_type": "code",
   "execution_count": null,
   "metadata": {},
   "outputs": [
    {
     "data": {
      "text/plain": [
       "True"
      ]
     },
     "execution_count": null,
     "metadata": {},
     "output_type": "execute_result"
    }
   ],
   "source": [
    "lst = [0, 5, 5, 5, 5, 5, 5, 5, 5, 5, 5, 5, 6]\n",
    "trap(lst) == 0"
   ]
  },
  {
   "cell_type": "code",
   "execution_count": null,
   "metadata": {},
   "outputs": [],
   "source": [
    "lst = [0, 5, 4, 3, 3, 3, 1, 3, 4, 1, 2, 5, 6]\n",
    "assert trap(lst) == 21"
   ]
  },
  {
   "cell_type": "code",
   "execution_count": null,
   "metadata": {},
   "outputs": [],
   "source": [
    "assert trap([0,1,0,2,1,0,1,3,2,1,2,1]) == 6"
   ]
  },
  {
   "cell_type": "code",
   "execution_count": null,
   "metadata": {},
   "outputs": [],
   "source": [
    "assert trap([0,1,1,1,2,2,2,1,0,1,2,3,4,8,5,4,2,1,1,1,1,5,2,3,4,7,1,2,0,1,1,0,12,7,3,3,3,3]) == 107"
   ]
  },
  {
   "cell_type": "code",
   "execution_count": null,
   "metadata": {},
   "outputs": [],
   "source": []
  }
 ],
 "metadata": {
  "kernelspec": {
   "display_name": "Python 3",
   "language": "python",
   "name": "python3"
  }
 },
 "nbformat": 4,
 "nbformat_minor": 4
}
