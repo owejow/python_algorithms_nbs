{
 "cells": [
  {
   "cell_type": "markdown",
   "metadata": {},
   "source": [
    "# 37. Sudoku Solver\n",
    "\n",
    "Write a program to solve a Sudoku puzzle by filling the empty cells.\n",
    "\n",
    "A sudoku solution must satisfy all of the following rules:\n",
    "\n",
    "1. Each of the digits 1-9 must occur exactly once in each row.\n",
    "1. Each of the digits 1-9 must occur exactly once in each column.\n",
    "1. Each of the the digits 1-9 must occur exactly once in each of the 9 3x3 sub-boxes of the grid.\n",
    "1. Empty cells are indicated by the character '.'.\n",
    "\n",
    "\n",
    "A sudoku puzzle...\n",
    "\n",
    "![question](../images/37-sudoku-solver-question.png)\n",
    "\n",
    "...and its solution numbers marked in red.\n",
    "\n",
    "![solution](../images/37-sudoku-solver-solution.png)\n",
    "\n",
    "Note:\n",
    "\n",
    "* The given board contain only digits 1-9 and the character '.'.\n",
    "* You may assume that the given Sudoku puzzle will have a single unique solution.\n",
    "* The given board size is always 9x9."
   ]
  },
  {
   "cell_type": "markdown",
   "metadata": {},
   "source": [
    "!ls ../images"
   ]
  },
  {
   "cell_type": "code",
   "execution_count": null,
   "metadata": {},
   "outputs": [],
   "source": [
    "from typing import List"
   ]
  },
  {
   "cell_type": "code",
   "execution_count": null,
   "metadata": {},
   "outputs": [],
   "source": [
    "def solveSudoku(board: List[List[str]]) -> None:\n",
    "    pass"
   ]
  },
  {
   "cell_type": "code",
   "execution_count": null,
   "metadata": {},
   "outputs": [],
   "source": []
  }
 ],
 "metadata": {
  "kernelspec": {
   "display_name": "Python 3",
   "language": "python",
   "name": "python3"
  }
 },
 "nbformat": 4,
 "nbformat_minor": 4
}
