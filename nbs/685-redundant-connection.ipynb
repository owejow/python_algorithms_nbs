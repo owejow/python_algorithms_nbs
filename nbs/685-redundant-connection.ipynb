{
 "cells": [
  {
   "cell_type": "markdown",
   "metadata": {},
   "source": [
    "# Question 685: Redundant Connection II"
   ]
  },
  {
   "cell_type": "markdown",
   "metadata": {},
   "source": [
    "```bash\n",
    "\n",
    "In this problem, a rooted tree is a directed graph such that, there is exactly one node (the root) for which all other nodes are descendants of this node, plus every node has exactly one parent, except for the root node which has no parents.\n",
    "\n",
    "The given input is a directed graph that started as a rooted tree with N nodes (with distinct values 1, 2, ..., N), with one additional directed edge added. The added edge has two different vertices chosen from 1 to N, and was not an edge that already existed.\n",
    "\n",
    "The resulting graph is given as a 2D-array of edges. Each element of edges is a pair [u, v] that represents a directed edge connecting nodes u and v, where u is a parent of child v.\n",
    "\n",
    "Return an edge that can be removed so that the resulting graph is a rooted tree of N nodes. If there are multiple answers, return the answer that occurs last in the given 2D-array.\n",
    "\n",
    "Example 1:\n",
    "Input: [[1,2], [1,3], [2,3]]\n",
    "Output: [2,3]\n",
    "\n",
    "Explanation: The given directed graph will be like this:\n",
    "  1\n",
    " / \\\n",
    "v   v\n",
    "2-->3\n",
    "\n",
    "Example 2:\n",
    "\n",
    "Input: [[1,2], [2,3], [3,4], [4,1], [1,5]]\n",
    "Output: [4,1]\n",
    "\n",
    "Explanation: The given directed graph will be like this:\n",
    "5 <- 1 -> 2\n",
    "     ^    |\n",
    "     |    v\n",
    "     4 <- 3\n",
    "    \n",
    "Note:\n",
    "\n",
    "The size of the input 2D-array will be between 3 and 1000.\n",
    "Every integer represented in the 2D-array will be between 1 and N, where N is the size of the input array.\n",
    "```"
   ]
  },
  {
   "cell_type": "code",
   "execution_count": null,
   "metadata": {},
   "outputs": [],
   "source": [
    "from typing  import List\n",
    "\n",
    "def findRedundantDirectedConnection(edges: List[List[int]]) -> List[int]:\n",
    "        pass"
   ]
  },
  {
   "cell_type": "code",
   "execution_count": null,
   "metadata": {},
   "outputs": [],
   "source": []
  }
 ],
 "metadata": {
  "kernelspec": {
   "display_name": "fastai2",
   "language": "python",
   "name": "fastai2"
  }
 },
 "nbformat": 4,
 "nbformat_minor": 4
}
