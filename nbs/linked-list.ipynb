{
 "cells": [
  {
   "cell_type": "code",
   "execution_count": null,
   "metadata": {},
   "outputs": [],
   "source": [
    "from nbdev.showdoc import *\n",
    "from nbdev.imports import *"
   ]
  },
  {
   "cell_type": "code",
   "execution_count": null,
   "metadata": {},
   "outputs": [],
   "source": [
    "class ListNode(object):\n",
    "    def __init__(self, x):\n",
    "        self.val = x\n",
    "        self.next = None"
   ]
  },
  {
   "cell_type": "code",
   "execution_count": null,
   "metadata": {},
   "outputs": [],
   "source": [
    "def linkedList(lst):\n",
    "    if not lst:\n",
    "        return None\n",
    "    \n",
    "    head = ListNode(lst[0])\n",
    "    cur = head\n",
    "    for item in lst[1:]:\n",
    "        cur.next = ListNode(item)\n",
    "        cur = cur.next\n",
    "    return head\n"
   ]
  },
  {
   "cell_type": "code",
   "execution_count": null,
   "metadata": {},
   "outputs": [],
   "source": [
    "def asList(head):\n",
    "    if head is None:\n",
    "        return []\n",
    "    result = []\n",
    "    while head:\n",
    "        result.append(head.val)\n",
    "        head = head.next\n",
    "    return result"
   ]
  },
  {
   "cell_type": "code",
   "execution_count": null,
   "metadata": {},
   "outputs": [],
   "source": [
    "def printLinkedList(head):\n",
    "    if not head:\n",
    "        return\n",
    "    cur = head\n",
    "    print(f\"{cur.val}\",end=\"\")\n",
    "    cur = cur.next\n",
    "    \n",
    "    while cur:\n",
    "        print(f\" -> {cur.val}\", end=\"\")\n",
    "        cur = cur.next"
   ]
  },
  {
   "cell_type": "code",
   "execution_count": null,
   "metadata": {},
   "outputs": [
    {
     "name": "stdout",
     "output_type": "stream",
     "text": [
      "1 -> 2 -> 3 -> 4 -> 5None\n"
     ]
    }
   ],
   "source": [
    "print(printLinkedList(initializeLinkedList([1,2,3,4,5])))"
   ]
  },
  {
   "cell_type": "markdown",
   "metadata": {},
   "source": [
    "# Reverse Linked List (recursive)"
   ]
  },
  {
   "cell_type": "code",
   "execution_count": null,
   "metadata": {},
   "outputs": [],
   "source": [
    "def reverseLinkedListRecursive(head):\n",
    "    if head == None or head.next == None:\n",
    "        return head\n",
    "    \n",
    "    node = head\n",
    "    head = reverseLinkedListRecursive(head.next)\n",
    "    \n",
    "    node.next.next = node\n",
    "    node.next = None\n",
    "    \n",
    "    return head"
   ]
  },
  {
   "cell_type": "code",
   "execution_count": null,
   "metadata": {},
   "outputs": [],
   "source": [
    "assert reverseLinkedListRecursive(None) == None\n",
    "assert asList(reverseLinkedListRecursive(linkedList([1,2]))) == [2,1]\n",
    "assert asList(reverseLinkedListRecursive(linkedList([1,2,3]))) == [3,2,1]"
   ]
  },
  {
   "cell_type": "markdown",
   "metadata": {},
   "source": [
    "# Reverse Linked List (iterative)"
   ]
  },
  {
   "cell_type": "code",
   "execution_count": null,
   "metadata": {},
   "outputs": [],
   "source": [
    "def reverseLinkedListIterative(head):\n",
    "    if not head or not head.next:\n",
    "        return head\n",
    "    \n",
    "    alpha= head\n",
    "    beta = alpha.next\n",
    "    omega = head\n",
    "    \n",
    "    while beta:\n",
    "        omega.next = beta.next\n",
    "        beta.next = alpha\n",
    "        alpha = beta\n",
    "        beta = omega.next\n",
    "    return alpha\n",
    "    "
   ]
  },
  {
   "cell_type": "code",
   "execution_count": null,
   "metadata": {},
   "outputs": [],
   "source": [
    "assert reverseLinkedListIterative(None) == None\n",
    "assert asList(reverseLinkedListIterative(linkedList([1,2]))) == [2,1]\n",
    "assert asList(reverseLinkedListIterative(linkedList([1,2,3]))) == [3,2,1]"
   ]
  },
  {
   "cell_type": "code",
   "execution_count": null,
   "metadata": {},
   "outputs": [],
   "source": []
  }
 ],
 "metadata": {
  "kernelspec": {
   "display_name": "fastaiv2",
   "language": "python",
   "name": "fastai_v2"
  }
 },
 "nbformat": 4,
 "nbformat_minor": 2
}
