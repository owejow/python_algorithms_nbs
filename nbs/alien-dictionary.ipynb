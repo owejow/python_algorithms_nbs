{
 "cells": [
  {
   "cell_type": "markdown",
   "metadata": {},
   "source": [
    "# Question 269: Alien Dictionary"
   ]
  },
  {
   "cell_type": "markdown",
   "metadata": {},
   "source": [
    "Description\n",
    "\n",
    "English\n",
    "\n",
    "There is a new alien language which uses the latin alphabet. However, the order among letters are unknown to you. You receive a list of non-empty words from the dictionary, where words are sorted lexicographically by the rules of this new language. Derive the order of letters in this language.\n",
    "\n",
    "Given a sorted dictionary (array of words) of an alien language, find order of characters in the language.\n",
    "Examples:\n",
    "\n",
    "```\n",
    "Input:  words[] = {\"baa\", \"abcd\", \"abca\", \"cab\", \"cad\"}\n",
    "Output: Order of characters is 'b', 'd', 'a', 'c'\n",
    "Note that words are sorted and in the given language \"baa\" \n",
    "comes before \"abcd\", therefore 'b' is before 'a' in output.\n",
    "Similarly we can find other orders.\n",
    "\n",
    "Input:  words[] = {\"caa\", \"aaa\", \"aab\"}\n",
    "Output: Order of characters is 'c', 'a', 'b'\n",
    "```\n",
    "\n",
    "```pre\n",
    "You may assume all letters are in lowercase.\n",
    "The dictionary is invalid, if a is prefix of b and b is appear before a.\n",
    "If the order is invalid, return an empty string.\n",
    "There may be multiple valid order of letters, return the smallest in normal lexicographical order\n",
    "```"
   ]
  },
  {
   "cell_type": "code",
   "execution_count": null,
   "metadata": {},
   "outputs": [],
   "source": [
    "import collections\n",
    "\n",
    "def alienOrder(words):\n",
    "    pre = collections.defaultdict(set)\n",
    "    suc = collections.defaultdict(set)\n",
    "\n",
    "    for pair in zip(words, words[1:]):\n",
    "        for a, b in zip(*pair):\n",
    "            if a != b:\n",
    "                suc[a].add(b)\n",
    "                pre[b].add(a)\n",
    "                break\n",
    "                \n",
    "    chars = set(''.join(words))\n",
    "    charToProcess = collections.deque(chars - set(pre.keys()))\n",
    "    order = []\n",
    "\n",
    "    while charToProcess:\n",
    "        ch = charToProcess.popleft()\n",
    "        order.append(ch)\n",
    "        for b in suc[ch]:\n",
    "            pre[b].discard(ch)\n",
    "            if not pre[b]:\n",
    "                charToProcess.append(b)\n",
    "                \n",
    "    if set(order) == chars:\n",
    "        return \"\".join(order) \n",
    "    else:\n",
    "        return \"\""
   ]
  },
  {
   "cell_type": "code",
   "execution_count": null,
   "metadata": {},
   "outputs": [],
   "source": [
    "assert alienOrder([\"wrt\",\"wrf\",\"er\",\"ett\",\"rftt\"]) == 'wertf'"
   ]
  },
  {
   "cell_type": "code",
   "execution_count": null,
   "metadata": {},
   "outputs": [],
   "source": [
    "abc = set()\n",
    "abc.add('a')\n",
    "abc.add('b')\n",
    "abc.add('c')"
   ]
  },
  {
   "cell_type": "code",
   "execution_count": null,
   "metadata": {},
   "outputs": [
    {
     "data": {
      "text/plain": [
       "'c'"
      ]
     },
     "execution_count": null,
     "metadata": {},
     "output_type": "execute_result"
    }
   ],
   "source": [
    "abc.pop()"
   ]
  },
  {
   "cell_type": "code",
   "execution_count": null,
   "metadata": {},
   "outputs": [],
   "source": []
  }
 ],
 "metadata": {
  "kernelspec": {
   "display_name": "Python 3",
   "language": "python",
   "name": "python3"
  }
 },
 "nbformat": 4,
 "nbformat_minor": 2
}
