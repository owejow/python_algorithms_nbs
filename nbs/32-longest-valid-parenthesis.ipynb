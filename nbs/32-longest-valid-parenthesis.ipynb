{
 "cells": [
  {
   "cell_type": "markdown",
   "metadata": {},
   "source": [
    "# Question 32: Longest Valid Parentheses"
   ]
  },
  {
   "cell_type": "markdown",
   "metadata": {},
   "source": [
    "```bash\n",
    "Given a string containing just the characters '(' and ')', find the length of the longest valid (well-formed) parentheses substring.\n",
    "\n",
    "Example 1:\n",
    "\n",
    "Input: \"(()\"\n",
    "Output: 2\n",
    "Explanation: The longest valid parentheses substring is \"()\"\n",
    "Example 2:\n",
    "\n",
    "Input: \")()())\"\n",
    "Output: 4\n",
    "Explanation: The longest valid parentheses substring is \"()()\"\n",
    "```"
   ]
  },
  {
   "cell_type": "code",
   "execution_count": null,
   "metadata": {},
   "outputs": [],
   "source": [
    "def longestValidParenthesesNSquared(s: str) -> int:\n",
    "    longest = 0\n",
    "    \n",
    "    for i in range(len(s)):\n",
    "        count = 0\n",
    "        for j in range(i, len(s)):\n",
    "            if count < 0:\n",
    "                break\n",
    "                \n",
    "            if s[j] == '(':\n",
    "                count += 1\n",
    "            if s[j] == ')':\n",
    "                count -= 1\n",
    "            \n",
    "            if count == 0:\n",
    "                if j-i + 1 > longest:\n",
    "                    longest = j-i+1\n",
    "    return longest"
   ]
  },
  {
   "cell_type": "code",
   "execution_count": null,
   "metadata": {},
   "outputs": [],
   "source": [
    "assert longestValidParenthesesNSquared(\"()\") == 2\n",
    "assert longestValidParenthesesNSquared(\")()\") == 2\n",
    "assert longestValidParenthesesNSquared(\")()()((()))()\") == 12\n",
    "assert longestValidParenthesesNSquared(\"()()())()())\") == 6"
   ]
  },
  {
   "cell_type": "code",
   "execution_count": null,
   "metadata": {},
   "outputs": [],
   "source": [
    "def longestValidParenthesesBottomUpDynamic(s: str) -> int:\n",
    "    \n",
    "    cached = [[0 for i in range(len(s))] for i in range(len(s))]\n",
    "    longest = 0\n",
    "\n",
    "    for i in range(len(s)):\n",
    "        for j in range(0, len(s)-i):\n",
    "            if i % 2 == 0:\n",
    "                cached[j][j+i] = 0                \n",
    "            else: \n",
    "                value = 0\n",
    "                delta = 2\n",
    "                if s[j] == '(' and s[j+i] == ')':     \n",
    "                    if i == 1:\n",
    "                        value = 1\n",
    "                    \n",
    "                    else: \n",
    "                        while delta <= i:\n",
    "                            if cached[j+1][j+i-1] > 0 or cached[j][j+i-delta] > 0 and cached[j+delta][j+i]:\n",
    "                                value = 1\n",
    "                                break\n",
    "                            delta += 2\n",
    "                cached[j][j+i] = value\n",
    "\n",
    "            if cached[j][j+i] > 0 and i+1 > longest:\n",
    "                longest = i+1\n",
    "                        \n",
    "    return longest\n",
    "\n"
   ]
  },
  {
   "cell_type": "code",
   "execution_count": null,
   "metadata": {},
   "outputs": [],
   "source": [
    "assert longestValidParenthesesBottomUpDynamic(')())()') == 2\n",
    "assert longestValidParenthesesBottomUpDynamic('()()') == 4\n",
    "assert longestValidParenthesesBottomUpDynamic('(()') == 2\n",
    "assert longestValidParenthesesBottomUpDynamic(\")()()((()))()\") == 12\n",
    "assert longestValidParenthesesBottomUpDynamic(\"()()())()())\") == 6\n",
    "assert longestValidParenthesesBottomUpDynamic(\")()())\") == 4"
   ]
  },
  {
   "cell_type": "code",
   "execution_count": null,
   "metadata": {},
   "outputs": [],
   "source": []
  }
 ],
 "metadata": {
  "kernelspec": {
   "display_name": "python3 (dev)",
   "language": "python",
   "name": "dev"
  }
 },
 "nbformat": 4,
 "nbformat_minor": 4
}
