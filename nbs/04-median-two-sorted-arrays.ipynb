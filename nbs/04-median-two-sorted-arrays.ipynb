{
 "cells": [
  {
   "cell_type": "markdown",
   "metadata": {},
   "source": [
    "# 4. Median of Two Sorted Arrays\n",
    "```bash\n",
    "\n",
    "There are two sorted arrays nums1 and nums2 of size m and n respectively.\n",
    "\n",
    "Find the median of the two sorted arrays. The overall run time complexity should be O(log (m+n)).\n",
    "\n",
    "You may assume nums1 and nums2 cannot be both empty.\n",
    "\n",
    "Example 1:\n",
    "\n",
    "nums1 = [1, 3]\n",
    "nums2 = [2]\n",
    "\n",
    "The median is 2.0\n",
    "\n",
    "Example 2:\n",
    "\n",
    "nums1 = [1, 2]\n",
    "nums2 = [3, 4]\n",
    "\n",
    "The median is (2 + 3)/2 = 2.5\n",
    "```"
   ]
  },
  {
   "cell_type": "code",
   "execution_count": null,
   "metadata": {},
   "outputs": [],
   "source": [
    "from typing import List\n",
    "import numpy as np"
   ]
  },
  {
   "cell_type": "code",
   "execution_count": null,
   "metadata": {},
   "outputs": [],
   "source": [
    "from fastprogress.fastprogress import master_bar, progress_bar\n",
    "def median(lst):\n",
    "    if len(lst):\n",
    "        length = len(lst)\n",
    "        total=lst[length//2] + lst[(length-1)//2]\n",
    "        return total /2"
   ]
  },
  {
   "cell_type": "code",
   "execution_count": null,
   "metadata": {},
   "outputs": [],
   "source": [
    "def medianHelper(a, b, iseven):\n",
    "    if iseven:\n",
    "        return (a + b) / 2\n",
    "    return max(a,b)"
   ]
  },
  {
   "cell_type": "code",
   "execution_count": null,
   "metadata": {},
   "outputs": [],
   "source": [
    "def findMedianSortedArrays(nums1: List[int], nums2: List[int]) -> float:    \n",
    "    if len(nums1) > len(nums2):\n",
    "        nums1, nums2  = nums2, nums1\n",
    "    \n",
    "    if len(nums1) == 0:\n",
    "        return median(nums2)\n",
    "\n",
    "    total_count = len(nums1) + len(nums2)\n",
    "    is_even_count = total_count % 2 == 0\n",
    "    \n",
    "    a_idx = len(nums1) - 1\n",
    "    \n",
    "    b_idx = total_count // 2 - len(nums1)\n",
    "    \n",
    "    s_idx = 0\n",
    "    e_idx = len(nums1) -1\n",
    "    \n",
    "    while True:\n",
    "        if s_idx > e_idx:\n",
    "            break\n",
    "            \n",
    "        if nums1[a_idx] == nums2[b_idx]:\n",
    "            break\n",
    "        \n",
    "        # move right\n",
    "        if nums1[a_idx] < nums2[b_idx]:\n",
    "            if a_idx == len(nums1) - 1 or nums1[a_idx] >= nums2[b_idx-1]:\n",
    "                break\n",
    "                \n",
    "            mid = s_idx + (e_idx - s_idx) // 2    \n",
    "            \n",
    "            s_idx = a_idx + 1\n",
    "            a_idx = mid\n",
    "            b_idx = total_count // 2 - a_idx - 1\n",
    "            \n",
    "        # move left a[a_idx] > b[b_idx]\n",
    "        else:\n",
    "            if a_idx == 0 or nums1[a_idx-1] <= nums2[b_idx]:\n",
    "                break\n",
    "            \n",
    "            mid = s_idx + (e_idx - s_idx) // 2      \n",
    "            \n",
    "            e_idx = a_idx - 1\n",
    "            a_idx = mid\n",
    "\n",
    "            b_idx = total_count // 2 - a_idx - 1\n",
    "            \n",
    "\n",
    "    if nums1[a_idx] == nums2[b_idx]:\n",
    "        return nums1[a_idx]\n",
    "    \n",
    "    elif nums1[a_idx] > nums2[b_idx]:\n",
    "        if b_idx != len(nums2) - 1:\n",
    "            if nums2[b_idx+1] <= nums1[a_idx]:\n",
    "                return medianHelper(nums2[b_idx+1], nums2[b_idx], is_even_count)\n",
    "        \n",
    "        if a_idx != 0 and nums1[a_idx-1] >= nums2[b_idx]:\n",
    "            return medianHelper(nums1[a_idx], nums1[a_idx-1], is_even_count)\n",
    "            \n",
    "        return medianHelper(nums1[a_idx], nums2[b_idx], is_even_count)\n",
    "    \n",
    "    else: # nums1[a_idx] < nums2[b_idx]\n",
    "        \n",
    "        if a_idx != len(nums1) - 1 and nums1[a_idx+1] <= nums2[b_idx]:\n",
    "            return medianHelper(nums1[a_idx+1], nums1[a_idx], is_even_count)\n",
    "        \n",
    "        if b_idx != 0 and nums1[a_idx] <= nums2[b_idx-1]:\n",
    "            return medianHelper(nums2[b_idx], nums2[b_idx-1], is_even_count)\n",
    "\n",
    "        return medianHelper(nums1[a_idx], nums2[b_idx], is_even_count)\n",
    "\n",
    "            "
   ]
  },
  {
   "cell_type": "code",
   "execution_count": null,
   "metadata": {},
   "outputs": [],
   "source": [
    "assert findMedianSortedArrays([23,45,46,88],[1,2,3,4]) == 13.5\n",
    "assert findMedianSortedArrays([23,45,46,88],[1,2,3,4,5]) == 5\n",
    "assert findMedianSortedArrays([],[1,2,3,4,5]) == 3\n",
    "assert findMedianSortedArrays([],[1,2,3,4]) == 2.5\n",
    "assert findMedianSortedArrays([10,11,12], [1,2,3,4,5]) == 4.5\n",
    "assert findMedianSortedArrays([10,11,12,13,14], [1,2,3,4,5]) == 7.5\n",
    "assert findMedianSortedArrays([10,11,12,13,14], [1,2,3,4,5,6,7,8]) == 7\n",
    "assert findMedianSortedArrays([1,3,7,7], [7,8,9,11]) == 7\n",
    "assert findMedianSortedArrays(nums1 = [1, 2], nums2 = [3, 4]) == 2.5\n",
    "assert findMedianSortedArrays([111, 251, 307, 366, 489, 540, 860],[214, 331, 375, 381, 388, 457, 558, 568, 682, 706, 721, 908, 954]) == 473\n",
    "assert findMedianSortedArrays([334, 371, 436, 494, 800, 950], [297]) == 436\n",
    "assert findMedianSortedArrays([115, 380, 824, 875], [134, 149, 602, 672, 792, 821, 826, 836, 849, 957, 981]) == 821\n",
    "assert findMedianSortedArrays([],[529])  == 529\n",
    "assert findMedianSortedArrays([105,206,268,294,371,415,466,472,475,486,518,561,611,652,664,681,745,831,885],[8, 107, 108, 139, 215, 320, 541, 824, 858, 884, 970]) == 480.5\n",
    "assert findMedianSortedArrays([14, 478, 619, 627, 720], [143, 166, 480, 600, 663]) == 540 \n",
    "assert findMedianSortedArrays([59, 231, 551, 756, 950],[79, 99, 109, 113, 160, 181, 343, 421, 429, 468, 536, 708, 819, 926, 985]) == 425\n",
    "assert findMedianSortedArrays([101, 114, 154, 171, 177, 185, 204, 207, 250, 310, 316, 319, 343, 369, 371, 377, 381, 405, 447, 554, 582, 623, 624, 683, 740, 753, 804, 812, 813, 819, 825, 828, 834, 837, 858, 860, 880, 895, 927, 942, 951, 960, 988],\n",
    "                      [137, 287, 403, 415, 487, 512, 555, 564, 697, 908, 957]) == 559.5 \n",
    "assert findMedianSortedArrays([8, 35, 125, 197, 205, 218, 263, 354, 361, 411, 468, 525, 538, 695, 731, 734, 817, 824, 841, 888, 892, 896, 904],\n",
    "                      [11, 204, 361, 454, 468, 485, 662, 680, 869, 894]) == 485\n",
    "assert findMedianSortedArrays([14, 97, 169, 226, 411, 514, 555, 603, 648, 815, 837, 860, 888, 980, 985],\n",
    "                       [1, 5, 18, 34, 37, 37, 43, 48, 71, 133, 180, 184, 200, 217, 229, 270, 296, 311, 315, \n",
    "                        319, 321, 374, 376, 385, 393, 446, 462, 473, 490, 501, 538, 547, 555, 582, 583, 595, 601, \n",
    "                        606, 623, 624, 639, 657, 663, 703, 728, 743, 750, 755, 788, 808, 811, 829, 857, 859, 863, 877, 915, 918, 920, 922, 934, 936, 942, 977, 989]) == 568.5"
   ]
  },
  {
   "cell_type": "code",
   "execution_count": null,
   "metadata": {},
   "outputs": [],
   "source": [
    "def testCase(count):\n",
    "    all_values = np.random.randint(0,10000,count)\n",
    "    median = np.median(all_values)\n",
    "    split = np.random.randint(0,count)\n",
    "    return (median, sorted(all_values[0:split]), sorted(all_values[split:]))\n",
    "    "
   ]
  },
  {
   "cell_type": "code",
   "execution_count": null,
   "metadata": {},
   "outputs": [
    {
     "data": {
      "text/html": [
       "passed 1000, failed 0.<p>passed 1000, failed 0.<p>passed 1000, failed 0.<p>passed 1000, failed 0.<p>passed 1000, failed 0.<p>passed 1000, failed 0.<p>passed 1000, failed 0.<p>passed 1000, failed 0.<p>passed 1000, failed 0.<p>passed 1000, failed 0."
      ],
      "text/plain": [
       "<IPython.core.display.HTML object>"
      ]
     },
     "metadata": {},
     "output_type": "display_data"
    }
   ],
   "source": [
    "from fastprogress.fastprogress import master_bar, progress_bar\n",
    "from time import sleep\n",
    "\n",
    "\n",
    "mb = master_bar(range(10))\n",
    "\n",
    "for i in mb:\n",
    "    pass_count = 0\n",
    "    fail_count = 0\n",
    "    for j in progress_bar(range(1000), parent=mb):\n",
    "        total = np.random.randint(2,10000)\n",
    "\n",
    "        a,b,c = testCase(total)\n",
    "        result = findMedianSortedArrays(b,c)     \n",
    "        if not result == a:\n",
    "              fail_count +=1\n",
    "        else:\n",
    "            pass_count+=1\n",
    "    mb.write(f'passed {pass_count}, failed {fail_count}.')\n",
    "\n"
   ]
  },
  {
   "cell_type": "code",
   "execution_count": null,
   "metadata": {},
   "outputs": [],
   "source": [
    "def medianNew(A, B):\n",
    "    m, n = len(A), len(B)\n",
    "    \n",
    "    if m > n:\n",
    "        A, B, m, n = B, A, n, m\n",
    "    \n",
    "    if n == 0:\n",
    "        raise ValueError\n",
    "\n",
    "    imin, imax, half_len = 0, m, (m + n + 1) // 2\n",
    "\n",
    "    while imin <= imax:\n",
    "        \n",
    "        i = (imin + imax) // 2\n",
    "        j = half_len - i\n",
    "\n",
    "        if i < m and B[j-1] > A[i]:\n",
    "            # i is too small, must increase it\n",
    "            imin = i + 1\n",
    "        elif i > 0 and A[i-1] > B[j]:\n",
    "            # i is too big, must decrease it\n",
    "            imax = i - 1\n",
    "        else:\n",
    "            # i is perfect\n",
    "\n",
    "            if i == 0: max_of_left = B[j-1]\n",
    "            elif j == 0: max_of_left = A[i-1]\n",
    "            else: max_of_left = max(A[i-1], B[j-1])\n",
    "\n",
    "            if (m + n) % 2 == 1:\n",
    "                return max_of_left\n",
    "\n",
    "            if i == m: min_of_right = B[j]\n",
    "            elif j == n: min_of_right = A[i]\n",
    "            else: min_of_right = min(A[i], B[j])\n",
    "\n",
    "            return (max_of_left + min_of_right) / 2.0"
   ]
  },
  {
   "cell_type": "code",
   "execution_count": null,
   "metadata": {},
   "outputs": [],
   "source": [
    "assert medianNew([23,45,46,88],[1,2,3,4]) == 13.5\n",
    "assert medianNew([23,45,46,88],[1,2,3,4,5]) == 5\n",
    "assert medianNew([],[1,2,3,4,5]) == 3\n",
    "assert medianNew([],[1,2,3,4]) == 2.5\n",
    "assert medianNew([10,11,12], [1,2,3,4,5]) == 4.5\n",
    "assert medianNew([10,11,12,13,14], [1,2,3,4,5]) == 7.5\n",
    "assert medianNew([10,11,12,13,14], [1,2,3,4,5,6,7,8]) == 7\n",
    "assert medianNew([1,3,7,7], [7,8,9,11]) == 7\n",
    "assert medianNew([1, 2], [3, 4]) == 2.5\n",
    "assert medianNew([111, 251, 307, 366, 489, 540, 860],[214, 331, 375, 381, 388, 457, 558, 568, 682, 706, 721, 908, 954]) == 473\n",
    "assert medianNew([334, 371, 436, 494, 800, 950], [297]) == 436\n",
    "assert medianNew([115, 380, 824, 875], [134, 149, 602, 672, 792, 821, 826, 836, 849, 957, 981]) == 821\n",
    "assert medianNew([],[529])  == 529\n",
    "assert medianNew([105,206,268,294,371,415,466,472,475,486,518,561,611,652,664,681,745,831,885],[8, 107, 108, 139, 215, 320, 541, 824, 858, 884, 970]) == 480.5\n",
    "assert medianNew([14, 478, 619, 627, 720], [143, 166, 480, 600, 663]) == 540 \n",
    "assert medianNew([59, 231, 551, 756, 950],[79, 99, 109, 113, 160, 181, 343, 421, 429, 468, 536, 708, 819, 926, 985]) == 425\n",
    "assert medianNew([101, 114, 154, 171, 177, 185, 204, 207, 250, 310, 316, 319, 343, 369, 371, 377, 381, 405, 447, 554, 582, 623, 624, 683, 740, 753, 804, 812, 813, 819, 825, 828, 834, 837, 858, 860, 880, 895, 927, 942, 951, 960, 988],\n",
    "                       [137, 287, 403, 415, 487, 512, 555, 564, 697, 908, 957])\n",
    "assert medianNew([8, 35, 125, 197, 205, 218, 263, 354, 361, 411, 468, 525, 538, 695, 731, 734, 817, 824, 841, 888, 892, 896, 904],\n",
    "                      [11, 204, 361, 454, 468, 485, 662, 680, 869, 894]) == 485\n",
    "assert medianNew([14, 97, 169, 226, 411, 514, 555, 603, 648, 815, 837, 860, 888, 980, 985],\n",
    "                       [1, 5, 18, 34, 37, 37, 43, 48, 71, 133, 180, 184, 200, 217, 229, 270, 296, 311, 315, \n",
    "                        319, 321, 374, 376, 385, 393, 446, 462, 473, 490, 501, 538, 547, 555, 582, 583, 595, 601, \n",
    "                        606, 623, 624, 639, 657, 663, 703, 728, 743, 750, 755, 788, 808, 811, 829, 857, 859, 863, 877, 915, 918, 920, 922, 934, 936, 942, 977, 989]) == 568.5"
   ]
  },
  {
   "cell_type": "code",
   "execution_count": null,
   "metadata": {},
   "outputs": [
    {
     "data": {
      "text/html": [
       "passed 1000, failed 0.<p>passed 1000, failed 0.<p>passed 1000, failed 0.<p>passed 1000, failed 0.<p>passed 1000, failed 0.<p>passed 1000, failed 0.<p>passed 1000, failed 0.<p>passed 1000, failed 0.<p>passed 1000, failed 0.<p>passed 1000, failed 0."
      ],
      "text/plain": [
       "<IPython.core.display.HTML object>"
      ]
     },
     "metadata": {},
     "output_type": "display_data"
    }
   ],
   "source": [
    "from fastprogress.fastprogress import master_bar, progress_bar\n",
    "from time import sleep\n",
    "\n",
    "\n",
    "mb = master_bar(range(10))\n",
    "\n",
    "for i in mb:\n",
    "    pass_count = 0\n",
    "    fail_count = 0\n",
    "    for j in progress_bar(range(1000), parent=mb):\n",
    "        total = np.random.randint(2,10000)\n",
    "\n",
    "        a,b,c = testCase(total)\n",
    "        result = medianNew(b,c)     \n",
    "        if not result == a:\n",
    "              fail_count +=1\n",
    "        else:\n",
    "            pass_count+=1\n",
    "    mb.write(f'passed {pass_count}, failed {fail_count}.')"
   ]
  }
 ],
 "metadata": {
  "kernelspec": {
   "display_name": "Python 3",
   "language": "python",
   "name": "python3"
  }
 },
 "nbformat": 4,
 "nbformat_minor": 4
}
