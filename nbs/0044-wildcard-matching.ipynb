{
 "cells": [
  {
   "cell_type": "markdown",
   "metadata": {},
   "source": [
    "# Question 44: Wildcard Matching"
   ]
  },
  {
   "cell_type": "markdown",
   "metadata": {},
   "source": [
    "```bash\n",
    "Given an input string (s) and a pattern (p), implement wildcard pattern matching with support for '?' and '*'.\n",
    "\n",
    "'?' Matches any single character.\n",
    "'*' Matches any sequence of characters (including the empty sequence).\n",
    "The matching should cover the entire input string (not partial).\n",
    "\n",
    "Note:\n",
    "\n",
    "s could be empty and contains only lowercase letters a-z.\n",
    "p could be empty and contains only lowercase letters a-z, and characters like ? or *.\n",
    "Example 1:\n",
    "\n",
    "Input:\n",
    "s = \"aa\"\n",
    "p = \"a\"\n",
    "Output: false\n",
    "Explanation: \"a\" does not match the entire string \"aa\".\n",
    "Example 2:\n",
    "\n",
    "Input:\n",
    "s = \"aa\"\n",
    "p = \"*\"\n",
    "Output: true\n",
    "Explanation: '*' matches any sequence.\n",
    "Example 3:\n",
    "\n",
    "Input:\n",
    "s = \"cb\"\n",
    "p = \"?a\"\n",
    "Output: false\n",
    "Explanation: '?' matches 'c', but the second letter is 'a', which does not match 'b'.\n",
    "Example 4:\n",
    "\n",
    "Input:\n",
    "s = \"adceb\"\n",
    "p = \"*a*b\"\n",
    "Output: true\n",
    "Explanation: The first '*' matches the empty sequence, while the second '*' matches the substring \"dce\".\n",
    "Example 5:\n",
    "\n",
    "Input:\n",
    "s = \"acdcb\"\n",
    "p = \"a*c?b\"\n",
    "Output: false\n",
    "```"
   ]
  },
  {
   "cell_type": "code",
   "execution_count": null,
   "metadata": {},
   "outputs": [],
   "source": []
  }
 ],
 "metadata": {
  "kernelspec": {
   "display_name": "fastai2",
   "language": "python",
   "name": "fastai2"
  }
 },
 "nbformat": 4,
 "nbformat_minor": 4
}
