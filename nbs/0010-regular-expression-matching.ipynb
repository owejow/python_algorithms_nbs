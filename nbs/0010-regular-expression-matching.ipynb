{
 "cells": [
  {
   "cell_type": "markdown",
   "metadata": {},
   "source": [
    "# 10. Regular Expression Matching"
   ]
  },
  {
   "cell_type": "markdown",
   "metadata": {},
   "source": [
    "```bash\n",
    "Given an input string (s) and a pattern (p), implement regular expression matching with support for '.' and '*'.\n",
    "\n",
    "'.' Matches any single character.\n",
    "'*' Matches zero or more of the preceding element.\n",
    "The matching should cover the entire input string (not partial).\n",
    "\n",
    "Note:\n",
    "\n",
    "s could be empty and contains only lowercase letters a-z.\n",
    "p could be empty and contains only lowercase letters a-z, and characters like . or *.\n",
    "\n",
    "Example 1:\n",
    "\n",
    "Input:\n",
    "s = \"aa\"\n",
    "p = \"a\"\n",
    "Output: false\n",
    "Explanation: \"a\" does not match the entire string \"aa\".\n",
    "\n",
    "\n",
    "Example 2:\n",
    "\n",
    "Input:\n",
    "s = \"aa\"\n",
    "p = \"a*\"\n",
    "Output: true\n",
    "Explanation: '*' means zero or more of the preceding element, 'a'. Therefore, by repeating 'a' once, it becomes \"aa\".\n",
    "\n",
    "\n",
    "Example 3:\n",
    "\n",
    "Input:\n",
    "s = \"ab\"\n",
    "p = \".*\"\n",
    "Output: true\n",
    "Explanation: \".*\" means \"zero or more (*) of any character (.)\".\n",
    "\n",
    "\n",
    "Example 4:\n",
    "\n",
    "Input:\n",
    "s = \"aab\"\n",
    "p = \"c*a*b\"\n",
    "Output: true\n",
    "Explanation: c can be repeated 0 times, a can be repeated 1 time. Therefore, it matches \"aab\".\n",
    "\n",
    "\n",
    "Example 5:\n",
    "\n",
    "Input:\n",
    "s = \"mississippi\"\n",
    "p = \"mis*is*p*.\"\n",
    "Output: false\n",
    "```"
   ]
  },
  {
   "cell_type": "code",
   "execution_count": null,
   "metadata": {},
   "outputs": [],
   "source": [
    "def nextItem(s: str) -> str:\n",
    "    if len(s) < 2:\n",
    "        return None\n",
    "    return s[1]"
   ]
  },
  {
   "cell_type": "code",
   "execution_count": null,
   "metadata": {},
   "outputs": [],
   "source": [
    "def match(s: str, p: str)-> bool:\n",
    "    if s == \"\" and p == \"\":\n",
    "        return True\n",
    "    \n",
    "    if p == \"\":\n",
    "        return False\n",
    "    \n",
    "    if nextItem(p) == \"*\":\n",
    "        return matchStar(s, p)\n",
    "    \n",
    "    if s == \"\":\n",
    "        return False\n",
    "    \n",
    "    else:\n",
    "        return matchChar(s, p)"
   ]
  },
  {
   "cell_type": "code",
   "execution_count": null,
   "metadata": {},
   "outputs": [],
   "source": [
    "def matchChar(s:str, p:str) -> bool:\n",
    "    current_match = False\n",
    "    if p[0] == \".\":\n",
    "        current_match = True\n",
    "    else:\n",
    "        current_match = p[0] == s[0]\n",
    "    \n",
    "    return current_match and match(s[1:], p[1:])"
   ]
  },
  {
   "cell_type": "code",
   "execution_count": null,
   "metadata": {},
   "outputs": [],
   "source": [
    "def matchStar(s: str, p: str) -> bool:\n",
    "    if s == \"\":\n",
    "        return match(s, p[2:])\n",
    "    \n",
    "    current_match = False\n",
    "    \n",
    "    if p[0] == \".\":\n",
    "        current_match = True \n",
    "    else:\n",
    "        current_match = (p[0] == s[0])\n",
    "        \n",
    "    return current_match and match(s[1:], p) or match(s, p[2:])"
   ]
  },
  {
   "cell_type": "code",
   "execution_count": null,
   "metadata": {},
   "outputs": [],
   "source": [
    "assert match(\"\",\"\")\n",
    "assert not match(\"a\",\"\")  \n",
    "assert match(\"\", \".*.*\")\n",
    "assert not match(\"aa\", \"a\")\n",
    "assert match(\"aa\", \"a*b*c*\")\n",
    "assert match(\"ab\",\"a*b*c*d*\")\n",
    "assert not match(\"mississippi\", \"mis*is*p*.\")\n",
    "assert match(\"abbbbb\", \".*\")\n",
    "assert match(\"\", \".*\")\n",
    "assert match(\"\", \"a*b*.*c*\")\n",
    "assert match (\"aab\", \"c*a*b\")\n",
    "assert not match(\"\",\"a\")"
   ]
  },
  {
   "cell_type": "code",
   "execution_count": null,
   "metadata": {},
   "outputs": [],
   "source": []
  }
 ],
 "metadata": {
  "kernelspec": {
   "display_name": "Python 3",
   "language": "python",
   "name": "python3"
  }
 },
 "nbformat": 4,
 "nbformat_minor": 4
}
