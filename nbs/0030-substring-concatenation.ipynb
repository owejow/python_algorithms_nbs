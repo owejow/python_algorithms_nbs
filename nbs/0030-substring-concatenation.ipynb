{
 "cells": [
  {
   "cell_type": "markdown",
   "metadata": {},
   "source": [
    "# 30. Substring with Concatenation of All Words\n",
    "\n",
    "\n",
    "Share\n",
    "You are given a string, s, and a list of words, words, that are all of the same length. Find all starting indices of substring(s) in s that is a concatenation of each word in words exactly once and without any intervening characters.\n",
    "\n",
    "```bash \n",
    "\n",
    "Example 1:\n",
    "\n",
    "Input:\n",
    "  s = \"barfoothefoobarman\",\n",
    "  words = [\"foo\",\"bar\"]\n",
    "Output: [0,9]\n",
    "Explanation: Substrings starting at index 0 and 9 are \"barfoo\" and \"foobar\" respectively.\n",
    "The output order does not matter, returning [9,0] is fine too.\n",
    "Example 2:\n",
    "\n",
    "Input:\n",
    "  s = \"wordgoodgoodgoodbestword\",\n",
    "  words = [\"word\",\"good\",\"best\",\"word\"]\n",
    "Output: []\n",
    "```"
   ]
  },
  {
   "cell_type": "code",
   "execution_count": null,
   "metadata": {},
   "outputs": [],
   "source": [
    "from typing import List\n",
    "def findSubstring(s: str, words: List[str]) -> List[int]:\n",
    "    pass"
   ]
  },
  {
   "cell_type": "code",
   "execution_count": null,
   "metadata": {},
   "outputs": [],
   "source": []
  }
 ],
 "metadata": {
  "kernelspec": {
   "display_name": "Python 3",
   "language": "python",
   "name": "python3"
  }
 },
 "nbformat": 4,
 "nbformat_minor": 4
}
